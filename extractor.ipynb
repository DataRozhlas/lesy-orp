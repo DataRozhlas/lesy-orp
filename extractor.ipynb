{
 "cells": [
  {
   "cell_type": "code",
   "execution_count": 61,
   "metadata": {
    "collapsed": true
   },
   "outputs": [],
   "source": [
    "import pandas as pd\n",
    "import os"
   ]
  },
  {
   "cell_type": "code",
   "execution_count": 69,
   "metadata": {
    "collapsed": false
   },
   "outputs": [],
   "source": [
    "out = {}\n",
    "\n",
    "for rdir in os.listdir(r'data'):\n",
    "    if (rdir.endswith('xlsx')):\n",
    "        continue\n",
    "    for orp in os.listdir(r'data/' + rdir):\n",
    "        if (int(rdir) <= 2006):\n",
    "            sheet = 'dreviny'\n",
    "        else:\n",
    "            sheet = 'dřeviny'\n",
    "        temp = pd.io.excel.read_excel(r'data/' + rdir + '/' + orp, index_col=None, sheetname=sheet, skip_footer=2)\n",
    "        orpName = temp.columns[0]\n",
    "        \n",
    "        if (' - ' in orpName):\n",
    "            orpName = orpName.split(' - ')[1]\n",
    "        else:\n",
    "            orpName = orpName.replace('ORP ', '')\n",
    "        \n",
    "        if (orpName not in out):\n",
    "            out[orpName] = {}\n",
    "        \n",
    "        for i, row in temp.iterrows():\n",
    "            if (i < 6):\n",
    "                continue\n",
    "            drevina = row[0].lstrip(' ').lower()\n",
    "            porost = row[1]\n",
    "            out[orpName][rdir + '_' + drevina] = porost"
   ]
  },
  {
   "cell_type": "code",
   "execution_count": 70,
   "metadata": {
    "collapsed": false
   },
   "outputs": [],
   "source": [
    "data = pd.DataFrame.from_dict(out, orient='index')\n",
    "data.reset_index(inplace=True)\n",
    "data.rename(columns={'index': 'orp'}, inplace=True)\n",
    "data.sort(axis=1, inplace=True)"
   ]
  },
  {
   "cell_type": "code",
   "execution_count": 71,
   "metadata": {
    "collapsed": false
   },
   "outputs": [],
   "source": [
    "data.to_excel(r'data/dreviny_vyvoj.xlsx', index=False)"
   ]
  }
 ],
 "metadata": {
  "kernelspec": {
   "display_name": "Python 3",
   "language": "python",
   "name": "python3"
  },
  "language_info": {
   "codemirror_mode": {
    "name": "ipython",
    "version": 3
   },
   "file_extension": ".py",
   "mimetype": "text/x-python",
   "name": "python",
   "nbconvert_exporter": "python",
   "pygments_lexer": "ipython3",
   "version": "3.4.3"
  }
 },
 "nbformat": 4,
 "nbformat_minor": 0
}
